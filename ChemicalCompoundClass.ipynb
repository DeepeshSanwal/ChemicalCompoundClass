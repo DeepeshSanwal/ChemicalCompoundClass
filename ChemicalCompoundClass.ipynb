{
  "nbformat": 4,
  "nbformat_minor": 0,
  "metadata": {
    "kernelspec": {
      "display_name": "Python 3",
      "language": "python",
      "name": "python3"
    },
    "language_info": {
      "codemirror_mode": {
        "name": "ipython",
        "version": 3
      },
      "file_extension": ".py",
      "mimetype": "text/x-python",
      "name": "python",
      "nbconvert_exporter": "python",
      "pygments_lexer": "ipython3",
      "version": "3.7.3"
    },
    "colab": {
      "name": "Internshala.ipynb",
      "provenance": [],
      "toc_visible": true
    }
  },
  "cells": [
    {
      "cell_type": "markdown",
      "metadata": {
        "id": "zOPghi9W4sCA"
      },
      "source": [
        "### Importing the libraries"
      ]
    },
    {
      "cell_type": "code",
      "metadata": {
        "id": "ajHK64v0laML"
      },
      "source": [
        "import numpy as np\n",
        "import pandas as pd\n",
        "import tensorflow as tf"
      ],
      "execution_count": 1,
      "outputs": []
    },
    {
      "cell_type": "code",
      "metadata": {
        "colab": {
          "base_uri": "https://localhost:8080/",
          "height": 35
        },
        "id": "sVlzDWORlaMN",
        "outputId": "f5692859-1541-4b51-87e7-d31975b9955c"
      },
      "source": [
        "tf.__version__"
      ],
      "execution_count": 2,
      "outputs": [
        {
          "output_type": "execute_result",
          "data": {
            "application/vnd.google.colaboratory.intrinsic+json": {
              "type": "string"
            },
            "text/plain": [
              "'2.3.0'"
            ]
          },
          "metadata": {
            "tags": []
          },
          "execution_count": 2
        }
      ]
    },
    {
      "cell_type": "markdown",
      "metadata": {
        "id": "0dPn832G53GM"
      },
      "source": [
        "## Data Pre-processing"
      ]
    },
    {
      "cell_type": "markdown",
      "metadata": {
        "id": "Ft2eHEfL6EkW"
      },
      "source": [
        "### Importing the data"
      ]
    },
    {
      "cell_type": "code",
      "metadata": {
        "id": "DTyJPSHYlaMS"
      },
      "source": [
        "dataset = pd.read_csv('musk_csv.csv')\n",
        "X = dataset.iloc[:, 3:-1].values\n",
        "y = dataset.iloc[:, -1].values"
      ],
      "execution_count": 3,
      "outputs": []
    },
    {
      "cell_type": "code",
      "metadata": {
        "id": "ufnKEtGXlaMS",
        "colab": {
          "base_uri": "https://localhost:8080/"
        },
        "outputId": "5e23e985-1853-4a64-9468-6a8a395dc3d7"
      },
      "source": [
        "print(X)"
      ],
      "execution_count": 4,
      "outputs": [
        {
          "output_type": "stream",
          "text": [
            "[[  46 -108  -60 ...  -50 -112   96]\n",
            " [  41 -188 -145 ...  -61 -136   79]\n",
            " [  46 -194 -145 ...  -67 -145   39]\n",
            " ...\n",
            " [  44 -102  -19 ...  -66 -144   -6]\n",
            " [  51 -121  -23 ...  -44 -116  117]\n",
            " [  51 -122  -23 ...  -44 -115  118]]\n"
          ],
          "name": "stdout"
        }
      ]
    },
    {
      "cell_type": "code",
      "metadata": {
        "id": "8YkA04nJlaMT",
        "colab": {
          "base_uri": "https://localhost:8080/"
        },
        "outputId": "e3bd184a-3ba7-49ca-822d-45f513fedb75"
      },
      "source": [
        "print(y)"
      ],
      "execution_count": 5,
      "outputs": [
        {
          "output_type": "stream",
          "text": [
            "[1 1 1 ... 0 0 0]\n"
          ],
          "name": "stdout"
        }
      ]
    },
    {
      "cell_type": "markdown",
      "metadata": {
        "id": "ZehLxmVV6SlE"
      },
      "source": [
        "### Splitting the dataset into the Training set and Test set"
      ]
    },
    {
      "cell_type": "code",
      "metadata": {
        "id": "aXFY3WC0laMU"
      },
      "source": [
        "from sklearn.model_selection import train_test_split\n",
        "X_train, X_test, y_train, y_test = train_test_split(X, y, test_size = 0.2, random_state = 0)"
      ],
      "execution_count": 6,
      "outputs": []
    },
    {
      "cell_type": "markdown",
      "metadata": {
        "id": "5UksfPUn6cGI"
      },
      "source": [
        "### Feature Scaling"
      ]
    },
    {
      "cell_type": "code",
      "metadata": {
        "id": "qiTz5RhilaMU"
      },
      "source": [
        "from sklearn.preprocessing import StandardScaler\n",
        "sc = StandardScaler()\n",
        "X_train = sc.fit_transform(X_train)\n",
        "X_test = sc.transform(X_test)"
      ],
      "execution_count": 7,
      "outputs": []
    },
    {
      "cell_type": "markdown",
      "metadata": {
        "id": "q5wlSjko6fYq"
      },
      "source": [
        "## Building the ANN"
      ]
    },
    {
      "cell_type": "markdown",
      "metadata": {
        "id": "MPvEYJNA6ngr"
      },
      "source": [
        "### Initializing the ANN"
      ]
    },
    {
      "cell_type": "code",
      "metadata": {
        "id": "-Ep1o1iplaMU"
      },
      "source": [
        "ann = tf.keras.models.Sequential()"
      ],
      "execution_count": 8,
      "outputs": []
    },
    {
      "cell_type": "markdown",
      "metadata": {
        "id": "mcCfRC7o6tyd"
      },
      "source": [
        "### Adding the input layer and the first hidden layer"
      ]
    },
    {
      "cell_type": "code",
      "metadata": {
        "id": "nncHkqT5laMU"
      },
      "source": [
        "ann.add(tf.keras.layers.Dense(units=6, activation='relu'))"
      ],
      "execution_count": 9,
      "outputs": []
    },
    {
      "cell_type": "markdown",
      "metadata": {
        "id": "ZjeQAH3L6yqY"
      },
      "source": [
        "### Adding the second hidden layer"
      ]
    },
    {
      "cell_type": "code",
      "metadata": {
        "id": "_0aXXFgTlaMU"
      },
      "source": [
        "ann.add(tf.keras.layers.Dense(units=6, activation='relu'))"
      ],
      "execution_count": 10,
      "outputs": []
    },
    {
      "cell_type": "markdown",
      "metadata": {
        "id": "SfyqcLUh62Sf"
      },
      "source": [
        "### Adding the output layer"
      ]
    },
    {
      "cell_type": "code",
      "metadata": {
        "id": "FAsfQVVslaMV"
      },
      "source": [
        "ann.add(tf.keras.layers.Dense(units=1, activation='sigmoid'))"
      ],
      "execution_count": 11,
      "outputs": []
    },
    {
      "cell_type": "markdown",
      "metadata": {
        "id": "uqc_-lQj6_57"
      },
      "source": [
        "## Training the ANN"
      ]
    },
    {
      "cell_type": "markdown",
      "metadata": {
        "id": "KKBpaNOp7Ewu"
      },
      "source": [
        "### Compiling the ANN"
      ]
    },
    {
      "cell_type": "code",
      "metadata": {
        "id": "tYzDQCcllaMV"
      },
      "source": [
        "ann.compile(optimizer = 'adam', loss = 'binary_crossentropy', metrics = ['accuracy'])"
      ],
      "execution_count": 12,
      "outputs": []
    },
    {
      "cell_type": "markdown",
      "metadata": {
        "id": "hxe4quN87KPO"
      },
      "source": [
        "### Training the ANN on the Training set"
      ]
    },
    {
      "cell_type": "code",
      "metadata": {
        "colab": {
          "base_uri": "https://localhost:8080/"
        },
        "id": "0nqZnt_claMV",
        "outputId": "b1435c9c-85af-4337-d3a9-7c742e4c2fbb"
      },
      "source": [
        "history = ann.fit(X_train, y_train, batch_size = 32, epochs = 25)"
      ],
      "execution_count": 13,
      "outputs": [
        {
          "output_type": "stream",
          "text": [
            "Epoch 1/25\n",
            "165/165 [==============================] - 0s 1ms/step - loss: 0.4043 - accuracy: 0.8344\n",
            "Epoch 2/25\n",
            "165/165 [==============================] - 0s 1ms/step - loss: 0.2253 - accuracy: 0.9183\n",
            "Epoch 3/25\n",
            "165/165 [==============================] - 0s 1ms/step - loss: 0.1784 - accuracy: 0.9354\n",
            "Epoch 4/25\n",
            "165/165 [==============================] - 0s 1ms/step - loss: 0.1550 - accuracy: 0.9424\n",
            "Epoch 5/25\n",
            "165/165 [==============================] - 0s 1ms/step - loss: 0.1393 - accuracy: 0.9485\n",
            "Epoch 6/25\n",
            "165/165 [==============================] - 0s 1ms/step - loss: 0.1273 - accuracy: 0.9530\n",
            "Epoch 7/25\n",
            "165/165 [==============================] - 0s 1ms/step - loss: 0.1186 - accuracy: 0.9560\n",
            "Epoch 8/25\n",
            "165/165 [==============================] - 0s 1ms/step - loss: 0.1109 - accuracy: 0.9579\n",
            "Epoch 9/25\n",
            "165/165 [==============================] - 0s 1ms/step - loss: 0.1043 - accuracy: 0.9608\n",
            "Epoch 10/25\n",
            "165/165 [==============================] - 0s 1ms/step - loss: 0.0971 - accuracy: 0.9615\n",
            "Epoch 11/25\n",
            "165/165 [==============================] - 0s 1ms/step - loss: 0.0909 - accuracy: 0.9653\n",
            "Epoch 12/25\n",
            "165/165 [==============================] - 0s 1ms/step - loss: 0.0856 - accuracy: 0.9644\n",
            "Epoch 13/25\n",
            "165/165 [==============================] - 0s 1ms/step - loss: 0.0809 - accuracy: 0.9655\n",
            "Epoch 14/25\n",
            "165/165 [==============================] - 0s 1ms/step - loss: 0.0763 - accuracy: 0.9680\n",
            "Epoch 15/25\n",
            "165/165 [==============================] - 0s 2ms/step - loss: 0.0748 - accuracy: 0.9693\n",
            "Epoch 16/25\n",
            "165/165 [==============================] - 0s 3ms/step - loss: 0.0720 - accuracy: 0.9708\n",
            "Epoch 17/25\n",
            "165/165 [==============================] - 0s 3ms/step - loss: 0.0683 - accuracy: 0.9723\n",
            "Epoch 18/25\n",
            "165/165 [==============================] - 0s 2ms/step - loss: 0.0662 - accuracy: 0.9746\n",
            "Epoch 19/25\n",
            "165/165 [==============================] - 0s 2ms/step - loss: 0.0634 - accuracy: 0.9727\n",
            "Epoch 20/25\n",
            "165/165 [==============================] - 0s 2ms/step - loss: 0.0611 - accuracy: 0.9756\n",
            "Epoch 21/25\n",
            "165/165 [==============================] - 0s 2ms/step - loss: 0.0605 - accuracy: 0.9754\n",
            "Epoch 22/25\n",
            "165/165 [==============================] - 0s 1ms/step - loss: 0.0565 - accuracy: 0.9776\n",
            "Epoch 23/25\n",
            "165/165 [==============================] - 0s 1ms/step - loss: 0.0541 - accuracy: 0.9790\n",
            "Epoch 24/25\n",
            "165/165 [==============================] - 0s 998us/step - loss: 0.0521 - accuracy: 0.9805\n",
            "Epoch 25/25\n",
            "165/165 [==============================] - 0s 1ms/step - loss: 0.0512 - accuracy: 0.9792\n"
          ],
          "name": "stdout"
        }
      ]
    },
    {
      "cell_type": "markdown",
      "metadata": {
        "id": "Q0hJVzFk7d1u"
      },
      "source": [
        "### Testing the ANN on the Test set"
      ]
    },
    {
      "cell_type": "code",
      "metadata": {
        "id": "v2rNqpB2laMV",
        "colab": {
          "base_uri": "https://localhost:8080/"
        },
        "outputId": "50f1e52a-0016-4654-9028-6291e75e9e91"
      },
      "source": [
        "validation = ann.fit(X_test, y_test, batch_size = 32, epochs = 25)"
      ],
      "execution_count": 14,
      "outputs": [
        {
          "output_type": "stream",
          "text": [
            "Epoch 1/25\n",
            "42/42 [==============================] - 0s 1ms/step - loss: 0.0731 - accuracy: 0.9758\n",
            "Epoch 2/25\n",
            "42/42 [==============================] - 0s 925us/step - loss: 0.0559 - accuracy: 0.9765\n",
            "Epoch 3/25\n",
            "42/42 [==============================] - 0s 1ms/step - loss: 0.0499 - accuracy: 0.9826\n",
            "Epoch 4/25\n",
            "42/42 [==============================] - 0s 949us/step - loss: 0.0439 - accuracy: 0.9856\n",
            "Epoch 5/25\n",
            "42/42 [==============================] - 0s 1ms/step - loss: 0.0387 - accuracy: 0.9864\n",
            "Epoch 6/25\n",
            "42/42 [==============================] - 0s 1ms/step - loss: 0.0387 - accuracy: 0.9848\n",
            "Epoch 7/25\n",
            "42/42 [==============================] - 0s 1ms/step - loss: 0.0377 - accuracy: 0.9833\n",
            "Epoch 8/25\n",
            "42/42 [==============================] - 0s 1ms/step - loss: 0.0324 - accuracy: 0.9894\n",
            "Epoch 9/25\n",
            "42/42 [==============================] - 0s 1ms/step - loss: 0.0296 - accuracy: 0.9909\n",
            "Epoch 10/25\n",
            "42/42 [==============================] - 0s 1ms/step - loss: 0.0289 - accuracy: 0.9909\n",
            "Epoch 11/25\n",
            "42/42 [==============================] - 0s 1ms/step - loss: 0.0266 - accuracy: 0.9924\n",
            "Epoch 12/25\n",
            "42/42 [==============================] - 0s 946us/step - loss: 0.0252 - accuracy: 0.9939\n",
            "Epoch 13/25\n",
            "42/42 [==============================] - 0s 942us/step - loss: 0.0260 - accuracy: 0.9924\n",
            "Epoch 14/25\n",
            "42/42 [==============================] - 0s 1ms/step - loss: 0.0226 - accuracy: 0.9939\n",
            "Epoch 15/25\n",
            "42/42 [==============================] - 0s 1ms/step - loss: 0.0215 - accuracy: 0.9947\n",
            "Epoch 16/25\n",
            "42/42 [==============================] - 0s 2ms/step - loss: 0.0201 - accuracy: 0.9947\n",
            "Epoch 17/25\n",
            "42/42 [==============================] - 0s 1ms/step - loss: 0.0193 - accuracy: 0.9955\n",
            "Epoch 18/25\n",
            "42/42 [==============================] - 0s 1ms/step - loss: 0.0188 - accuracy: 0.9924\n",
            "Epoch 19/25\n",
            "42/42 [==============================] - 0s 1ms/step - loss: 0.0167 - accuracy: 0.9947\n",
            "Epoch 20/25\n",
            "42/42 [==============================] - 0s 1ms/step - loss: 0.0175 - accuracy: 0.9924\n",
            "Epoch 21/25\n",
            "42/42 [==============================] - 0s 1ms/step - loss: 0.0155 - accuracy: 0.9947\n",
            "Epoch 22/25\n",
            "42/42 [==============================] - 0s 1ms/step - loss: 0.0141 - accuracy: 0.9955\n",
            "Epoch 23/25\n",
            "42/42 [==============================] - 0s 1ms/step - loss: 0.0130 - accuracy: 0.9970\n",
            "Epoch 24/25\n",
            "42/42 [==============================] - 0s 1ms/step - loss: 0.0121 - accuracy: 0.9970\n",
            "Epoch 25/25\n",
            "42/42 [==============================] - 0s 1ms/step - loss: 0.0127 - accuracy: 0.9955\n"
          ],
          "name": "stdout"
        }
      ]
    },
    {
      "cell_type": "markdown",
      "metadata": {
        "id": "riQmb1xk7rk-"
      },
      "source": [
        "### Predicting the Test set results"
      ]
    },
    {
      "cell_type": "code",
      "metadata": {
        "id": "jwc364sslaMV",
        "colab": {
          "base_uri": "https://localhost:8080/"
        },
        "outputId": "0ea1a670-63db-4d19-8ad8-951bbedc35e1"
      },
      "source": [
        "y_pred = ann.predict(X_test)\n",
        "y_pred = (y_pred > 0.5)\n",
        "print(np.concatenate((y_pred.reshape(len(y_pred),1), y_test.reshape(len(y_test),1)),1))"
      ],
      "execution_count": 15,
      "outputs": [
        {
          "output_type": "stream",
          "text": [
            "[[0 0]\n",
            " [1 1]\n",
            " [0 0]\n",
            " ...\n",
            " [0 0]\n",
            " [0 0]\n",
            " [0 0]]\n"
          ],
          "name": "stdout"
        }
      ]
    },
    {
      "cell_type": "markdown",
      "metadata": {
        "id": "Ek_QcfO-8H26"
      },
      "source": [
        "### Making the Confusion Matrix"
      ]
    },
    {
      "cell_type": "code",
      "metadata": {
        "colab": {
          "base_uri": "https://localhost:8080/"
        },
        "id": "p19BGQEOlaMW",
        "outputId": "c886305e-7bc7-4a81-9086-9d0d987b65be"
      },
      "source": [
        "from sklearn.metrics import confusion_matrix, accuracy_score\n",
        "cm = confusion_matrix(y_test, y_pred)\n",
        "print(cm)\n",
        "accuracy_score(y_test, y_pred)"
      ],
      "execution_count": 16,
      "outputs": [
        {
          "output_type": "stream",
          "text": [
            "[[1120    0]\n",
            " [   3  197]]\n"
          ],
          "name": "stdout"
        },
        {
          "output_type": "execute_result",
          "data": {
            "text/plain": [
              "0.9977272727272727"
            ]
          },
          "metadata": {
            "tags": []
          },
          "execution_count": 16
        }
      ]
    },
    {
      "cell_type": "markdown",
      "metadata": {
        "id": "el5gQqfJ8iZh"
      },
      "source": [
        "## Results"
      ]
    },
    {
      "cell_type": "markdown",
      "metadata": {
        "id": "ztYW1_dY8OFJ"
      },
      "source": [
        "### Getting the Loss and Precision values"
      ]
    },
    {
      "cell_type": "code",
      "metadata": {
        "id": "5yHN8uj1laMW",
        "colab": {
          "base_uri": "https://localhost:8080/"
        },
        "outputId": "91805041-09c4-4749-852d-ed6dde38b388"
      },
      "source": [
        "final_loss, final_acc = ann.evaluate(X_test, y_test, verbose=0)\n",
        "print(\"Final loss: {0:.4f}, final accuracy: {1:.4f}\".format(final_loss, final_acc))"
      ],
      "execution_count": 17,
      "outputs": [
        {
          "output_type": "stream",
          "text": [
            "Final loss: 0.0102, final accuracy: 0.9977\n"
          ],
          "name": "stdout"
        }
      ]
    },
    {
      "cell_type": "markdown",
      "metadata": {
        "id": "ewgwfwLd8cQ4"
      },
      "source": [
        "### Making the graphs for Loss and Accuracy"
      ]
    },
    {
      "cell_type": "code",
      "metadata": {
        "id": "w15rStCslaMW",
        "colab": {
          "base_uri": "https://localhost:8080/",
          "height": 293
        },
        "outputId": "01cda23b-6eca-4ea9-8097-fa2bf9d741c6"
      },
      "source": [
        "import matplotlib.pyplot as plt\n",
        "%matplotlib inline\n",
        "plt.plot(history.history['loss'], color='b', label='Train')\n",
        "plt.plot(validation.history['loss'], color='r', label='Test')\n",
        "plt.title(\"LOSS\", size=\"10\")\n",
        "plt.legend()\n",
        "plt.xlabel('Epoch')\n",
        "plt.ylabel('Loss')\n",
        "plt.show()"
      ],
      "execution_count": 18,
      "outputs": [
        {
          "output_type": "display_data",
          "data": {
            "image/png": "[encoded data removed]",
            "text/plain": [
              "<Figure size 432x288 with 1 Axes>"
            ]
          },
          "metadata": {
            "tags": [],
            "needs_background": "light"
          }
        }
      ]
    },
    {
      "cell_type": "code",
      "metadata": {
        "colab": {
          "base_uri": "https://localhost:8080/",
          "height": 293
        },
        "id": "p1-g2lLt_-Ml",
        "outputId": "1c07427d-58e2-444f-ac83-9b6747564a33"
      },
      "source": [
        "plt.plot(history.history['accuracy'], color='b', label='Train')\n",
        "plt.plot(validation.history['accuracy'], color='r', label='Test')\n",
        "plt.title(\"ACCURACY\", size=\"10\")\n",
        "plt.legend()\n",
        "plt.xlabel('Epoch')\n",
        "plt.ylabel('Accuracy')\n",
        "plt.show()"
      ],
      "execution_count": 20,
      "outputs": [
        {
          "output_type": "display_data",
          "data": {
            "image/png": "[encoded data removed]",
            "text/plain": [
              "<Figure size 432x288 with 1 Axes>"
            ]
          },
          "metadata": {
            "tags": [],
            "needs_background": "light"
          }
        }
      ]
    },
    {
      "cell_type": "markdown",
      "metadata": {
        "id": "O3STducI88o3"
      },
      "source": [
        "### Getting Precision, Recall and F-Score"
      ]
    },
    {
      "cell_type": "code",
      "metadata": {
        "colab": {
          "base_uri": "https://localhost:8080/"
        },
        "id": "qzW-ec3ElaMX",
        "outputId": "14ca2588-9b78-4623-bb76-2d9165699f2f"
      },
      "source": [
        "from sklearn.metrics import precision_recall_fscore_support\n",
        "scores=precision_recall_fscore_support(y_test, y_pred, average='weighted')\n",
        "print('Precision:', scores[0])\n",
        "print('Recall:', scores[1])\n",
        "print('F-Score:', scores[2])"
      ],
      "execution_count": 27,
      "outputs": [
        {
          "output_type": "stream",
          "text": [
            "(0.9977333441269326, 0.9977272727272727, 0.9977202054765502, None)\n",
            "Precision: 0.9977333441269326\n",
            "Recall: 0.9977272727272727\n",
            "F-Score: 0.9977202054765502\n"
          ],
          "name": "stdout"
        }
      ]
    },
    {
      "cell_type": "markdown",
      "metadata": {
        "id": "1BHUnrAH9w7-"
      },
      "source": [
        "### Saving the model"
      ]
    },
    {
      "cell_type": "code",
      "metadata": {
        "id": "Re6gelMZug_N"
      },
      "source": [
        "ann.save(\"ChemicalCompoundClass_ANN.h5\")"
      ],
      "execution_count": 28,
      "outputs": []
    }
  ]
}